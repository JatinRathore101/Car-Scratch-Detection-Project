{
 "cells": [
  {
   "cell_type": "code",
   "execution_count": 1,
   "id": "3a2416aa",
   "metadata": {},
   "outputs": [],
   "source": [
    "import pandas as pd\n",
    "import numpy as np\n",
    "import json\n",
    "import cv2 \n",
    "import os"
   ]
  },
  {
   "cell_type": "code",
   "execution_count": 2,
   "id": "394cfa2c",
   "metadata": {},
   "outputs": [
    {
     "data": {
      "text/html": [
       "<div>\n",
       "<style scoped>\n",
       "    .dataframe tbody tr th:only-of-type {\n",
       "        vertical-align: middle;\n",
       "    }\n",
       "\n",
       "    .dataframe tbody tr th {\n",
       "        vertical-align: top;\n",
       "    }\n",
       "\n",
       "    .dataframe thead th {\n",
       "        text-align: right;\n",
       "    }\n",
       "</style>\n",
       "<table border=\"1\" class=\"dataframe\">\n",
       "  <thead>\n",
       "    <tr style=\"text-align: right;\">\n",
       "      <th></th>\n",
       "      <th>filename</th>\n",
       "      <th>file_size</th>\n",
       "      <th>file_attributes</th>\n",
       "      <th>region_count</th>\n",
       "      <th>region_id</th>\n",
       "      <th>region_shape_attributes</th>\n",
       "      <th>region_attributes</th>\n",
       "    </tr>\n",
       "  </thead>\n",
       "  <tbody>\n",
       "    <tr>\n",
       "      <th>0</th>\n",
       "      <td>1.jpg</td>\n",
       "      <td>79148</td>\n",
       "      <td>{\"caption\":\"\",\"public_domain\":\"no\",\"image_url\"...</td>\n",
       "      <td>2</td>\n",
       "      <td>0</td>\n",
       "      <td>{\"name\":\"rect\",\"x\":354,\"y\":156,\"width\":199,\"he...</td>\n",
       "      <td>{\"name\":\"damage\",\"type\":\"unknown\",\"image_quali...</td>\n",
       "    </tr>\n",
       "    <tr>\n",
       "      <th>1</th>\n",
       "      <td>1.jpg</td>\n",
       "      <td>79148</td>\n",
       "      <td>{\"caption\":\"\",\"public_domain\":\"no\",\"image_url\"...</td>\n",
       "      <td>2</td>\n",
       "      <td>1</td>\n",
       "      <td>{\"name\":\"rect\",\"x\":320,\"y\":663,\"width\":325,\"he...</td>\n",
       "      <td>{\"name\":\"damage\",\"type\":\"unknown\",\"image_quali...</td>\n",
       "    </tr>\n",
       "    <tr>\n",
       "      <th>2</th>\n",
       "      <td>2.jpg</td>\n",
       "      <td>94448</td>\n",
       "      <td>{\"caption\":\"\",\"public_domain\":\"no\",\"image_url\"...</td>\n",
       "      <td>3</td>\n",
       "      <td>0</td>\n",
       "      <td>{\"name\":\"rect\",\"x\":637,\"y\":498,\"width\":240,\"he...</td>\n",
       "      <td>{\"name\":\"damage\",\"type\":\"unknown\",\"image_quali...</td>\n",
       "    </tr>\n",
       "    <tr>\n",
       "      <th>3</th>\n",
       "      <td>2.jpg</td>\n",
       "      <td>94448</td>\n",
       "      <td>{\"caption\":\"\",\"public_domain\":\"no\",\"image_url\"...</td>\n",
       "      <td>3</td>\n",
       "      <td>1</td>\n",
       "      <td>{\"name\":\"rect\",\"x\":620,\"y\":834,\"width\":190,\"he...</td>\n",
       "      <td>{\"name\":\"damage\",\"type\":\"unknown\",\"image_quali...</td>\n",
       "    </tr>\n",
       "    <tr>\n",
       "      <th>4</th>\n",
       "      <td>2.jpg</td>\n",
       "      <td>94448</td>\n",
       "      <td>{\"caption\":\"\",\"public_domain\":\"no\",\"image_url\"...</td>\n",
       "      <td>3</td>\n",
       "      <td>2</td>\n",
       "      <td>{\"name\":\"rect\",\"x\":634,\"y\":716,\"width\":214,\"he...</td>\n",
       "      <td>{\"name\":\"damage\",\"type\":\"unknown\",\"image_quali...</td>\n",
       "    </tr>\n",
       "  </tbody>\n",
       "</table>\n",
       "</div>"
      ],
      "text/plain": [
       "  filename  file_size                                    file_attributes  \\\n",
       "0    1.jpg      79148  {\"caption\":\"\",\"public_domain\":\"no\",\"image_url\"...   \n",
       "1    1.jpg      79148  {\"caption\":\"\",\"public_domain\":\"no\",\"image_url\"...   \n",
       "2    2.jpg      94448  {\"caption\":\"\",\"public_domain\":\"no\",\"image_url\"...   \n",
       "3    2.jpg      94448  {\"caption\":\"\",\"public_domain\":\"no\",\"image_url\"...   \n",
       "4    2.jpg      94448  {\"caption\":\"\",\"public_domain\":\"no\",\"image_url\"...   \n",
       "\n",
       "   region_count  region_id                            region_shape_attributes  \\\n",
       "0             2          0  {\"name\":\"rect\",\"x\":354,\"y\":156,\"width\":199,\"he...   \n",
       "1             2          1  {\"name\":\"rect\",\"x\":320,\"y\":663,\"width\":325,\"he...   \n",
       "2             3          0  {\"name\":\"rect\",\"x\":637,\"y\":498,\"width\":240,\"he...   \n",
       "3             3          1  {\"name\":\"rect\",\"x\":620,\"y\":834,\"width\":190,\"he...   \n",
       "4             3          2  {\"name\":\"rect\",\"x\":634,\"y\":716,\"width\":214,\"he...   \n",
       "\n",
       "                                   region_attributes  \n",
       "0  {\"name\":\"damage\",\"type\":\"unknown\",\"image_quali...  \n",
       "1  {\"name\":\"damage\",\"type\":\"unknown\",\"image_quali...  \n",
       "2  {\"name\":\"damage\",\"type\":\"unknown\",\"image_quali...  \n",
       "3  {\"name\":\"damage\",\"type\":\"unknown\",\"image_quali...  \n",
       "4  {\"name\":\"damage\",\"type\":\"unknown\",\"image_quali...  "
      ]
     },
     "execution_count": 2,
     "metadata": {},
     "output_type": "execute_result"
    }
   ],
   "source": [
    "annotations = pd.read_csv('annotations.csv')\n",
    "annotations.head()"
   ]
  },
  {
   "cell_type": "code",
   "execution_count": 3,
   "id": "73b76a81",
   "metadata": {},
   "outputs": [
    {
     "data": {
      "text/plain": [
       "array([ 79148,  94448, 100697,  58618,  75055,  51549,  74180, 113930,\n",
       "        99629,  66088,  82976,  71454,  59970,  52526,  95732,  63318,\n",
       "        88816,  93131, 123993, 105572,  60409, 108120,  95068, 121706,\n",
       "       110591,  97899, 143851, 104751,  57730, 146046, 122936, 135390,\n",
       "       148559, 107008,  91638,  97045,  82624,  75313, 112282,  98165,\n",
       "        97507, 135572, 107256,  98693,  90177,  98681, 113293, 139156,\n",
       "        97044,  83650, 126667, 148978, 153424, 101521,  76836,  88417,\n",
       "        84454, 111180,  63771,  82611,  73223,  76527, 107319,  88752,\n",
       "       112352, 132021, 111588, 116112, 135544,  88098, 178199,  75227,\n",
       "        90740, 182672, 129189, 202415], dtype=int64)"
      ]
     },
     "execution_count": 3,
     "metadata": {},
     "output_type": "execute_result"
    }
   ],
   "source": [
    "# unique file sizes\n",
    "\n",
    "annotations.file_size.unique()"
   ]
  },
  {
   "cell_type": "markdown",
   "id": "07c271cb",
   "metadata": {},
   "source": [
    "#### Co-ordinates of Rectangle"
   ]
  },
  {
   "cell_type": "code",
   "execution_count": 5,
   "id": "ff283346",
   "metadata": {},
   "outputs": [],
   "source": [
    "# getting co-ordinates\n",
    "\n",
    "x, y, width, height = [], [], [], []\n",
    "dictt = {}\n",
    "dictt = annotations.region_shape_attributes\n",
    "for i in range(len(annotations)):\n",
    "    x.append(json.loads(dictt[i])['x'])\n",
    "    y.append(json.loads(dictt[i])['y'])\n",
    "    width.append(json.loads(dictt[i])['width'])\n",
    "    height.append(json.loads(dictt[i])['height'])"
   ]
  },
  {
   "cell_type": "code",
   "execution_count": 6,
   "id": "44319390",
   "metadata": {},
   "outputs": [
    {
     "data": {
      "text/plain": [
       "'C:\\\\Users\\\\lenovo\\\\PycharmProjects\\\\Deep Learning\\\\Car Scratch Detection'"
      ]
     },
     "execution_count": 6,
     "metadata": {},
     "output_type": "execute_result"
    }
   ],
   "source": [
    "os.getcwd()"
   ]
  },
  {
   "cell_type": "code",
   "execution_count": 7,
   "id": "5bbfb3be",
   "metadata": {},
   "outputs": [],
   "source": [
    "# getting images\n",
    "images = {}\n",
    "folder = 'C:\\\\Users\\\\lenovo\\\\PycharmProjects\\\\Deep Learning\\\\Car Scratch Detection\\\\Dataset'\n",
    "\n",
    "for filename in os.listdir(folder):\n",
    "    img = cv2.imread(os.path.join(folder, filename))\n",
    "    img = cv2.cvtColor(img, cv2.COLOR_BGR2RGB)\n",
    "    images[filename] = img"
   ]
  },
  {
   "cell_type": "code",
   "execution_count": 8,
   "id": "6e87804f",
   "metadata": {},
   "outputs": [],
   "source": [
    "# Creating our df\n",
    "\n",
    "df = pd.DataFrame()\n",
    "df['filename'] = annotations.filename\n",
    "df['x']=x\n",
    "df['y']=y\n",
    "df['w']=width\n",
    "df['h']=height\n",
    "df.index = annotations.index"
   ]
  },
  {
   "cell_type": "code",
   "execution_count": 9,
   "id": "bfed6156",
   "metadata": {},
   "outputs": [
    {
     "data": {
      "text/html": [
       "<div>\n",
       "<style scoped>\n",
       "    .dataframe tbody tr th:only-of-type {\n",
       "        vertical-align: middle;\n",
       "    }\n",
       "\n",
       "    .dataframe tbody tr th {\n",
       "        vertical-align: top;\n",
       "    }\n",
       "\n",
       "    .dataframe thead th {\n",
       "        text-align: right;\n",
       "    }\n",
       "</style>\n",
       "<table border=\"1\" class=\"dataframe\">\n",
       "  <thead>\n",
       "    <tr style=\"text-align: right;\">\n",
       "      <th></th>\n",
       "      <th>filename</th>\n",
       "      <th>x</th>\n",
       "      <th>y</th>\n",
       "      <th>w</th>\n",
       "      <th>h</th>\n",
       "      <th>images</th>\n",
       "    </tr>\n",
       "  </thead>\n",
       "  <tbody>\n",
       "    <tr>\n",
       "      <th>0</th>\n",
       "      <td>1.jpg</td>\n",
       "      <td>354</td>\n",
       "      <td>156</td>\n",
       "      <td>199</td>\n",
       "      <td>483</td>\n",
       "      <td>[[[143, 142, 124], [143, 142, 124], [143, 142,...</td>\n",
       "    </tr>\n",
       "    <tr>\n",
       "      <th>1</th>\n",
       "      <td>1.jpg</td>\n",
       "      <td>320</td>\n",
       "      <td>663</td>\n",
       "      <td>325</td>\n",
       "      <td>158</td>\n",
       "      <td>[[[143, 142, 124], [143, 142, 124], [143, 142,...</td>\n",
       "    </tr>\n",
       "    <tr>\n",
       "      <th>2</th>\n",
       "      <td>2.jpg</td>\n",
       "      <td>637</td>\n",
       "      <td>498</td>\n",
       "      <td>240</td>\n",
       "      <td>212</td>\n",
       "      <td>[[[253, 252, 250], [253, 252, 250], [253, 252,...</td>\n",
       "    </tr>\n",
       "    <tr>\n",
       "      <th>3</th>\n",
       "      <td>2.jpg</td>\n",
       "      <td>620</td>\n",
       "      <td>834</td>\n",
       "      <td>190</td>\n",
       "      <td>87</td>\n",
       "      <td>[[[253, 252, 250], [253, 252, 250], [253, 252,...</td>\n",
       "    </tr>\n",
       "    <tr>\n",
       "      <th>4</th>\n",
       "      <td>2.jpg</td>\n",
       "      <td>634</td>\n",
       "      <td>716</td>\n",
       "      <td>214</td>\n",
       "      <td>43</td>\n",
       "      <td>[[[253, 252, 250], [253, 252, 250], [253, 252,...</td>\n",
       "    </tr>\n",
       "  </tbody>\n",
       "</table>\n",
       "</div>"
      ],
      "text/plain": [
       "  filename    x    y    w    h  \\\n",
       "0    1.jpg  354  156  199  483   \n",
       "1    1.jpg  320  663  325  158   \n",
       "2    2.jpg  637  498  240  212   \n",
       "3    2.jpg  620  834  190   87   \n",
       "4    2.jpg  634  716  214   43   \n",
       "\n",
       "                                              images  \n",
       "0  [[[143, 142, 124], [143, 142, 124], [143, 142,...  \n",
       "1  [[[143, 142, 124], [143, 142, 124], [143, 142,...  \n",
       "2  [[[253, 252, 250], [253, 252, 250], [253, 252,...  \n",
       "3  [[[253, 252, 250], [253, 252, 250], [253, 252,...  \n",
       "4  [[[253, 252, 250], [253, 252, 250], [253, 252,...  "
      ]
     },
     "execution_count": 9,
     "metadata": {},
     "output_type": "execute_result"
    }
   ],
   "source": [
    "images = [images[df.filename[i]] for i in range(len(df))]\n",
    "df['images'] = images\n",
    "df.head()"
   ]
  },
  {
   "cell_type": "code",
   "execution_count": 10,
   "id": "9711e134",
   "metadata": {},
   "outputs": [],
   "source": [
    "# saving the dataframe as csv\n",
    "\n",
    "df.to_csv('data.csv')"
   ]
  },
  {
   "cell_type": "code",
   "execution_count": null,
   "id": "7fb97915",
   "metadata": {},
   "outputs": [],
   "source": []
  }
 ],
 "metadata": {
  "kernelspec": {
   "display_name": "Python 3 (ipykernel)",
   "language": "python",
   "name": "python3"
  },
  "language_info": {
   "codemirror_mode": {
    "name": "ipython",
    "version": 3
   },
   "file_extension": ".py",
   "mimetype": "text/x-python",
   "name": "python",
   "nbconvert_exporter": "python",
   "pygments_lexer": "ipython3",
   "version": "3.8.5"
  }
 },
 "nbformat": 4,
 "nbformat_minor": 5
}
